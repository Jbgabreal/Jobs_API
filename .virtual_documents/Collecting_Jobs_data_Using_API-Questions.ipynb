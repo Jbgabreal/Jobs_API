






































import requests # you need this module to make an API call
import pandas as pd


api_url = "http://api.open-notify.org/astros.json" # this url gives use the astronaut data


response = requests.get(api_url) # Call the API using the get method and store the
                                # output of the API call in a variable called response.


if response.ok:             # if all is well() no errors, no network timeouts)
    data = response.json()  # store the result in json format in a variable called data
                            # the variable data is of type dictionary.





print(data)   # print the data just to check the output or for debugging





print(data.get('number'))





astronauts = data.get('people')
print("There are {} astronauts on ISS".format(len(astronauts)))
print("And their names are :")
for astronaut in astronauts:
    print(astronaut.get('name'))














#Import required libraries
import pandas as pd
import json





import requests

api_url = "https://cf-courses-data.s3.us.cloud-object-storage.appdomain.cloud/IBM-DA0321EN-SkillsNetwork/labs/module%201/Accessing%20Data%20Using%20APIs/jobs.json"

FLASK_URL = "http://127.0.0.1:5000"

# Map normalized input -> exact key your Flask pattern_dict expects
CANON = {
    "c": "C", "c#": "C#", "c++": "C++",
    "java": "Java", "javascript": "JavaScript", "python": "Python",
    "scala": "Scala", "oracle": "Oracle",
    "sql server": "SQL Server", "mysql server": "MySQL Server",
    "postgresql": "PostgreSQL", "mongodb": "MongoDB",
    "los angeles":"Los Angeles","new york":"New York","san francisco":"San Francisco",
    "washington dc":"Washington DC","seattle":"Seattle","austin":"Austin","detroit":"Detroit"
}


def get_number_of_jobs_T(technology):
    tech = str(technology).strip().lower()
    resp = requests.get(f"{FLASK_URL}/data/all", timeout=60)
    resp.raise_for_status()
    data = resp.json()

    number_of_jobs = sum(
        1 for r in data
        if isinstance(r, dict)
        and tech in str(r.get("Key Skills", "")).lower()
    )
    return technology, number_of_jobs








get_number_of_jobs_T("Python")





import re

def get_number_of_jobs_L(location):
    #your code goes here
    l = str(location).strip().lower()
    data = requests.get(api_url, timeout=60).json()

    def has_loc(row):
        loc = str(row.get("Location", ""))
        tokens = [s.strip().lower() for s in re.split(r"[|,;/]", loc) if s.strip()]
        return l in tokens

    number_of_jobs = sum(1 for r in data if isinstance(r, dict) and has_loc(r))
    return location,number_of_jobs





#your code goes here
get_number_of_jobs_L("Los Angeles")














#your code goes here
TECHS = [
    "python","sql","excel","power bi","tableau",
    "java","javascript","react","node","aws","azure","gcp",
    "docker","kubernetes","spark","hadoop","scala"
]





# your code goes here
from openpyxl import Workbook





# your code goes here





#your code goes here





#your code goes here








# your code goes here






















