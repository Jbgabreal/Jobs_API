{
 "cells": [
  {
   "cell_type": "markdown",
   "metadata": {},
   "source": [
    "<p style=\"text-align:center\">\n",
    "    <a href=\"https://skills.network/?utm_medium=Exinfluencer&utm_source=Exinfluencer&utm_content=000026UJ&utm_term=10006555&utm_id=NA-SkillsNetwork-Channel-SkillsNetworkCoursesIBMDA0321ENSkillsNetwork928-2022-01-01\" target=\"_blank\">\n",
    "    <img src=\"https://cf-courses-data.s3.us.cloud-object-storage.appdomain.cloud/assets/logos/SN_web_lightmode.png\" width=\"200\" alt=\"Skills Network Logo\"  />\n",
    "    </a>\n",
    "</p>\n"
   ]
  },
  {
   "cell_type": "markdown",
   "metadata": {},
   "source": [
    "# **Collecting Job Data Using APIs**\n"
   ]
  },
  {
   "cell_type": "markdown",
   "metadata": {},
   "source": [
    "Estimated time needed: **45 to 60** minutes\n"
   ]
  },
  {
   "cell_type": "markdown",
   "metadata": {},
   "source": [
    "## Objectives\n"
   ]
  },
  {
   "cell_type": "markdown",
   "metadata": {},
   "source": [
    "After completing this lab, you will be able to:\n"
   ]
  },
  {
   "cell_type": "markdown",
   "metadata": {},
   "source": [
    "*   Collect job data from Jobs API\n",
    "*   Store the collected data into an excel spreadsheet.\n"
   ]
  },
  {
   "cell_type": "markdown",
   "metadata": {},
   "source": [
    "><strong>Note: Before starting with the assignment make sure to read all the instructions and then move ahead with the coding part.</strong>\n"
   ]
  },
  {
   "cell_type": "markdown",
   "metadata": {},
   "source": [
    "#### Instructions\n"
   ]
  },
  {
   "cell_type": "markdown",
   "metadata": {},
   "source": [
    "To run the actual lab, firstly you need to click on the [Jobs_API](https://cf-courses-data.s3.us.cloud-object-storage.appdomain.cloud/IBM-DA0321EN-SkillsNetwork/labs/module%201/Accessing%20Data%20Using%20APIs/Jobs_API.ipynb) notebook link. The file contains flask code which is required to run the Jobs API data.\n",
    "\n",
    "Now, to run the code in the file that opens up follow the below steps.\n",
    "\n",
    "Step1: Download the file. \n",
    "\n",
    "Step2: Upload it on the IBM Watson studio. (If IBM Watson Cloud service does not work in your system, follow the alternate Step 2 below)\n",
    "\n",
    "Step2(alternate): Upload it in your SN labs environment using the upload button which is highlighted in red in the image below:\n",
    "Remember to upload this Jobs_API file in the same folder as your current .ipynb file\n",
    "\n",
    "<img src=\"https://cf-courses-data.s3.us.cloud-object-storage.appdomain.cloud/IBM-DA0321EN-SkillsNetwork/labs/module%201/Accessing%20Data%20Using%20APIs/Upload.PNG\">\n",
    "\n",
    "Step3:  Run all the cells of the Jobs_API file. (Even if you receive an asterik sign after running the last cell, the code works fine.)\n",
    "\n",
    "If you want to learn more about flask, which is optional, you can click on this link [here](https://cf-courses-data.s3.us.cloud-object-storage.appdomain.cloud/IBM-DA0321EN-SkillsNetwork/labs/module%201/Accessing%20Data%20Using%20APIs/FLASK_API.md.html).\n",
    "\n",
    "Once you run the flask code, you can start with your assignment.\n"
   ]
  },
  {
   "cell_type": "markdown",
   "metadata": {},
   "source": [
    "## Dataset Used in this Assignment\n",
    "\n",
    "The dataset used in this lab comes from the following source: https://www.kaggle.com/promptcloud/jobs-on-naukricom under the under a **Public Domain license**.\n",
    "\n",
    "> Note: We are using a modified subset of that dataset for the lab, so to follow the lab instructions successfully please use the dataset provided with the lab, rather than the dataset from the original source.\n",
    "\n",
    "The original dataset is a csv. We have converted the csv to json as per the requirement of the lab.\n"
   ]
  },
  {
   "cell_type": "markdown",
   "metadata": {},
   "source": [
    "## Warm-Up Exercise\n"
   ]
  },
  {
   "cell_type": "markdown",
   "metadata": {},
   "source": [
    "Before you attempt the actual lab, here is a fully solved warmup exercise that will help you to learn how to access an API.\n"
   ]
  },
  {
   "cell_type": "markdown",
   "metadata": {},
   "source": [
    "Using an API, let us find out who currently are on the International Space Station (ISS).<br> The API at [http://api.open-notify.org/astros.json](http://api.open-notify.org/astros.json?utm_medium=Exinfluencer&utm_source=Exinfluencer&utm_content=000026UJ&utm_term=10006555&utm_id=NA-SkillsNetwork-Channel-SkillsNetworkCoursesIBMDA0321ENSkillsNetwork21426264-2021-01-01&cm_mmc=Email_Newsletter-_-Developer_Ed%2BTech-_-WW_WW-_-SkillsNetwork-Courses-IBM-DA0321EN-SkillsNetwork-21426264&cm_mmca1=000026UJ&cm_mmca2=10006555&cm_mmca3=M12345678&cvosrc=email.Newsletter.M12345678&cvo_campaign=000026UJ) gives us the information of astronauts currently on ISS in json format.<br>\n",
    "You can read more about this API at [http://open-notify.org/Open-Notify-API/People-In-Space/](http://open-notify.org/Open-Notify-API/People-In-Space?utm_medium=Exinfluencer&utm_source=Exinfluencer&utm_content=000026UJ&utm_term=10006555&utm_id=NA-SkillsNetwork-Channel-SkillsNetworkCoursesIBMDA0321ENSkillsNetwork21426264-2021-01-01&cm_mmc=Email_Newsletter-_-Developer_Ed%2BTech-_-WW_WW-_-SkillsNetwork-Courses-IBM-DA0321EN-SkillsNetwork-21426264&cm_mmca1=000026UJ&cm_mmca2=10006555&cm_mmca3=M12345678&cvosrc=email.Newsletter.M12345678&cvo_campaign=000026UJ)\n"
   ]
  },
  {
   "cell_type": "code",
   "execution_count": 24,
   "metadata": {},
   "outputs": [],
   "source": [
    "import requests # you need this module to make an API call\n",
    "import pandas as pd"
   ]
  },
  {
   "cell_type": "code",
   "execution_count": 26,
   "metadata": {},
   "outputs": [],
   "source": [
    "api_url = \"http://api.open-notify.org/astros.json\" # this url gives use the astronaut data"
   ]
  },
  {
   "cell_type": "code",
   "execution_count": 28,
   "metadata": {},
   "outputs": [],
   "source": [
    "response = requests.get(api_url) # Call the API using the get method and store the\n",
    "                                # output of the API call in a variable called response."
   ]
  },
  {
   "cell_type": "code",
   "execution_count": 30,
   "metadata": {},
   "outputs": [],
   "source": [
    "if response.ok:             # if all is well() no errors, no network timeouts)\n",
    "    data = response.json()  # store the result in json format in a variable called data\n",
    "                            # the variable data is of type dictionary."
   ]
  },
  {
   "cell_type": "code",
   "execution_count": null,
   "metadata": {},
   "outputs": [],
   "source": []
  },
  {
   "cell_type": "code",
   "execution_count": 32,
   "metadata": {},
   "outputs": [
    {
     "name": "stdout",
     "output_type": "stream",
     "text": [
      "{'people': [{'craft': 'ISS', 'name': 'Oleg Kononenko'}, {'craft': 'ISS', 'name': 'Nikolai Chub'}, {'craft': 'ISS', 'name': 'Tracy Caldwell Dyson'}, {'craft': 'ISS', 'name': 'Matthew Dominick'}, {'craft': 'ISS', 'name': 'Michael Barratt'}, {'craft': 'ISS', 'name': 'Jeanette Epps'}, {'craft': 'ISS', 'name': 'Alexander Grebenkin'}, {'craft': 'ISS', 'name': 'Butch Wilmore'}, {'craft': 'ISS', 'name': 'Sunita Williams'}, {'craft': 'Tiangong', 'name': 'Li Guangsu'}, {'craft': 'Tiangong', 'name': 'Li Cong'}, {'craft': 'Tiangong', 'name': 'Ye Guangfu'}], 'number': 12, 'message': 'success'}\n"
     ]
    }
   ],
   "source": [
    "print(data)   # print the data just to check the output or for debugging"
   ]
  },
  {
   "cell_type": "markdown",
   "metadata": {},
   "source": [
    "Print the number of astronauts currently on ISS.\n"
   ]
  },
  {
   "cell_type": "code",
   "execution_count": 34,
   "metadata": {},
   "outputs": [
    {
     "name": "stdout",
     "output_type": "stream",
     "text": [
      "12\n"
     ]
    }
   ],
   "source": [
    "print(data.get('number'))"
   ]
  },
  {
   "cell_type": "markdown",
   "metadata": {},
   "source": [
    "Print the names of the astronauts currently on ISS.\n"
   ]
  },
  {
   "cell_type": "code",
   "execution_count": 36,
   "metadata": {},
   "outputs": [
    {
     "name": "stdout",
     "output_type": "stream",
     "text": [
      "There are 12 astronauts on ISS\n",
      "And their names are :\n",
      "Oleg Kononenko\n",
      "Nikolai Chub\n",
      "Tracy Caldwell Dyson\n",
      "Matthew Dominick\n",
      "Michael Barratt\n",
      "Jeanette Epps\n",
      "Alexander Grebenkin\n",
      "Butch Wilmore\n",
      "Sunita Williams\n",
      "Li Guangsu\n",
      "Li Cong\n",
      "Ye Guangfu\n"
     ]
    }
   ],
   "source": [
    "astronauts = data.get('people')\n",
    "print(\"There are {} astronauts on ISS\".format(len(astronauts)))\n",
    "print(\"And their names are :\")\n",
    "for astronaut in astronauts:\n",
    "    print(astronaut.get('name'))"
   ]
  },
  {
   "cell_type": "markdown",
   "metadata": {},
   "source": [
    "Hope the warmup was helpful. Good luck with your next lab!\n"
   ]
  },
  {
   "cell_type": "markdown",
   "metadata": {},
   "source": [
    "## Lab: Collect Jobs Data using Jobs API\n"
   ]
  },
  {
   "cell_type": "markdown",
   "metadata": {},
   "source": [
    "### Objective: Determine the number of jobs currently open for various technologies  and for various locations\n"
   ]
  },
  {
   "cell_type": "markdown",
   "metadata": {},
   "source": [
    "Collect the number of job postings for the following locations using the API:\n",
    "\n",
    "* Los Angeles\n",
    "* New York\n",
    "* San Francisco\n",
    "* Washington DC\n",
    "* Seattle\n",
    "* Austin\n",
    "* Detroit\n"
   ]
  },
  {
   "cell_type": "code",
   "execution_count": 38,
   "metadata": {},
   "outputs": [],
   "source": [
    "#Import required libraries\n",
    "import pandas as pd\n",
    "import json"
   ]
  },
  {
   "cell_type": "markdown",
   "metadata": {},
   "source": [
    "#### Write a function to get the number of jobs for the Python technology.<br>\n",
    "> Note: While using the lab you need to pass the **payload** information for the **params** attribute in the form of **key** **value** pairs.\n",
    "  Refer the ungraded **rest api lab** in the course **Python for Data Science, AI & Development**  <a href=\"https://www.coursera.org/learn/python-for-applied-data-science-ai/ungradedLti/P6sW8/hands-on-lab-access-rest-apis-request-http?utm_medium=Exinfluencer&utm_source=Exinfluencer&utm_content=000026UJ&utm_term=10006555&utm_id=NA-SkillsNetwork-Channel-SkillsNetworkCoursesIBMDA0321ENSkillsNetwork928-2022-01-01\">link</a>\n",
    "  \n",
    " ##### The keys in the json are \n",
    " * Job Title\n",
    " \n",
    " * Job Experience Required\n",
    " \n",
    " * Key Skills\n",
    " \n",
    " * Role Category\n",
    " \n",
    " * Location\n",
    " \n",
    " * Functional Area\n",
    " \n",
    " * Industry\n",
    " \n",
    " * Role \n",
    " \n",
    "You can also view  the json file contents  from the following <a href = \"https://cf-courses-data.s3.us.cloud-object-storage.appdomain.cloud/IBM-DA0321EN-SkillsNetwork/labs/module%201/Accessing%20Data%20Using%20APIs/jobs.json\">json</a> URL.\n"
   ]
  },
  {
   "cell_type": "code",
   "execution_count": 122,
   "metadata": {},
   "outputs": [],
   "source": [
    "import requests\n",
    "\n",
    "api_url = \"https://cf-courses-data.s3.us.cloud-object-storage.appdomain.cloud/IBM-DA0321EN-SkillsNetwork/labs/module%201/Accessing%20Data%20Using%20APIs/jobs.json\"\n",
    "\n",
    "FLASK_URL = \"http://127.0.0.1:5000\"\n",
    "\n",
    "# Map normalized input -> exact key your Flask pattern_dict expects\n",
    "CANON = {\n",
    "    \"c\": \"C\", \"c#\": \"C#\", \"c++\": \"C++\",\n",
    "    \"java\": \"Java\", \"javascript\": \"JavaScript\", \"python\": \"Python\",\n",
    "    \"scala\": \"Scala\", \"oracle\": \"Oracle\",\n",
    "    \"sql server\": \"SQL Server\", \"mysql server\": \"MySQL Server\",\n",
    "    \"postgresql\": \"PostgreSQL\", \"mongodb\": \"MongoDB\",\n",
    "    \"los angeles\":\"Los Angeles\",\"new york\":\"New York\",\"san francisco\":\"San Francisco\",\n",
    "    \"washington dc\":\"Washington DC\",\"seattle\":\"Seattle\",\"austin\":\"Austin\",\"detroit\":\"Detroit\"\n",
    "}\n",
    "\n",
    "\n",
    "def get_number_of_jobs_T(technology):\n",
    "    tech = str(technology).strip().lower()\n",
    "    resp = requests.get(f\"{FLASK_URL}/data/all\", timeout=60)\n",
    "    resp.raise_for_status()\n",
    "    data = resp.json()\n",
    "\n",
    "    number_of_jobs = sum(\n",
    "        1 for r in data\n",
    "        if isinstance(r, dict)\n",
    "        and tech in str(r.get(\"Key Skills\", \"\")).lower()\n",
    "    )\n",
    "    return technology, number_of_jobs"
   ]
  },
  {
   "cell_type": "code",
   "execution_count": 126,
   "metadata": {},
   "outputs": [],
   "source": [
    "FLASK_URL = \"http://127.0.0.1:5000\"\n",
    "\n",
    "# Canon: map user input to the exact keys your Flask pattern_dict expects\n",
    "CANON = {\n",
    "    \"c\": \"C\", \"c#\": \"C#\", \"c++\": \"C++\",\n",
    "    \"java\": \"Java\", \"javascript\": \"JavaScript\", \"python\": \"Python\",\n",
    "    \"scala\": \"Scala\", \"oracle\": \"Oracle\",\n",
    "    \"sql server\": \"SQL Server\", \"mysql server\": \"MySQL Server\",\n",
    "    \"postgresql\": \"PostgreSQL\", \"mongodb\": \"MongoDB\",\n",
    "}\n",
    "\n",
    "# Fields we’ll check on the server (your Flask /data supports these)\n",
    "_FIELDS = [\"Key Skills\", \"Job Title\", \"Role\", \"Role Category\",\n",
    "           \"Functional Area\", \"Industry\"]\n",
    "\n",
    "def _safe_count(field: str, value: str):\n",
    "    \"\"\"Call /data?field=value; return list of rows or [] if Flask returns 500 for that value.\"\"\"\n",
    "    try:\n",
    "        r = requests.get(f\"{FLASK_URL}/data\", params={field: value}, timeout=60)\n",
    "        r.raise_for_status()\n",
    "        return r.json() if isinstance(r.json(), list) else []\n",
    "    except Exception:\n",
    "        return []\n",
    "\n",
    "def get_number_of_jobs_T(technology):\n",
    "    \"\"\"Return (technology, number_of_jobs) for the given tech using Flask API + Canon.\"\"\"\n",
    "    target = CANON.get(str(technology).strip().lower(), technology)\n",
    "    seen_ids = set()\n",
    "\n",
    "    for field in _FIELDS:\n",
    "        rows = _safe_count(field, target)\n",
    "        for row in rows:\n",
    "            if not isinstance(row, dict):\n",
    "                continue\n",
    "            rid = row.get(\"id\", tuple(sorted(row.items())))  # fallback id\n",
    "            seen_ids.add(rid)\n",
    "\n",
    "    return technology, len(seen_ids)"
   ]
  },
  {
   "cell_type": "markdown",
   "metadata": {},
   "source": [
    "Calling the function for Python and checking if it works.\n"
   ]
  },
  {
   "cell_type": "code",
   "execution_count": 128,
   "metadata": {},
   "outputs": [
    {
     "data": {
      "text/plain": [
       "('Python', 1189)"
      ]
     },
     "execution_count": 128,
     "metadata": {},
     "output_type": "execute_result"
    }
   ],
   "source": [
    "get_number_of_jobs_T(\"Python\")"
   ]
  },
  {
   "cell_type": "markdown",
   "metadata": {},
   "source": [
    "#### Write a function to find number of jobs in US for a location of your choice\n"
   ]
  },
  {
   "cell_type": "code",
   "execution_count": 130,
   "metadata": {},
   "outputs": [],
   "source": [
    "import re, requests\n",
    "\n",
    "FLASK_URL = \"http://127.0.0.1:5000\"\n",
    "\n",
    "# Canon: EXACT strings your Flask pattern_dict supports (avoid 500s)\n",
    "CITY_CANON = {\n",
    "    \"los angeles\": \"Los Angeles\",\n",
    "    \"new york\": \"New York\",\n",
    "    \"san francisco\": \"San Francisco\",\n",
    "    \"washington dc\": \"Washington DC\",\n",
    "    \"seattle\": \"Seattle\",\n",
    "    \"austin\": \"Austin\",\n",
    "    \"detroit\": \"Detroit\",\n",
    "    # add more if you later extend pattern_dict\n",
    "}\n",
    "\n",
    "# Extra aliases (for client-side fallback filtering)\n",
    "CITY_ALIASES = {\n",
    "    \"new orleons\": \"new orleans\",  # common typo\n",
    "    \"new orlens\":  \"new orleans\",\n",
    "}\n",
    "\n",
    "US_CITIES = {\n",
    "    \"los angeles\",\"new york\",\"san francisco\",\"washington dc\",\"seattle\",\n",
    "    \"austin\",\"detroit\",\"new orleans\",\"baltimore\",\"chicago\",\"dallas\",\n",
    "    \"houston\",\"miami\",\"phoenix\",\"san diego\",\"san jose\",\"atlanta\",\n",
    "    \"denver\",\"las vegas\",\"minneapolis\",\"portland\",\"orlando\",\"tampa\",\n",
    "    \"charlotte\",\"columbus\",\"san antonio\",\"boston\",\"philadelphia\"\n",
    "}\n",
    "\n",
    "def _norm(s: str) -> str:\n",
    "    return re.sub(r\"\\s+\", \" \", str(s).strip().lower())\n",
    "\n",
    "def _split_locs(s: str):\n",
    "    # supports \"CityA|CityB, State\" etc.\n",
    "    return [_norm(t) for t in re.split(r\"[|,;/]\", str(s)) if str(t).strip()]\n",
    "\n",
    "def get_number_of_jobs_L(location: str):\n",
    "    target_raw = str(location)\n",
    "    target_norm = _norm(target_raw)\n",
    "    target_norm = CITY_ALIASES.get(target_norm, target_norm)\n",
    "\n",
    "    # --- 1) Try server-side filter via Flask /data (uses Canon to avoid 500) ---\n",
    "    canon = CITY_CANON.get(target_norm, None)\n",
    "    if canon is not None:\n",
    "        try:\n",
    "            r = requests.get(f\"{FLASK_URL}/data\", params={\"Location\": canon}, timeout=60)\n",
    "            r.raise_for_status()\n",
    "            return target_raw, len(r.json())\n",
    "        except Exception:\n",
    "            pass  # fall back if Flask errors\n",
    "\n",
    "    # --- 2) Fallback: fetch all and filter client-side (also handles typos/new cities) ---\n",
    "    try:\n",
    "        resp = requests.get(f\"{FLASK_URL}/data/all\", timeout=60)\n",
    "        resp.raise_for_status()\n",
    "        data = resp.json()\n",
    "    except Exception:\n",
    "        return target_raw, 0\n",
    "\n",
    "    # only count US jobs and match the city token exactly\n",
    "    count = 0\n",
    "    seen = set()\n",
    "    for row in data:\n",
    "        if not isinstance(row, dict):\n",
    "            continue\n",
    "        rid = row.get(\"id\", tuple(sorted(row.items())))\n",
    "        if rid in seen:\n",
    "            continue\n",
    "        tokens = _split_locs(row.get(\"Location\", \"\"))\n",
    "        tokens = [CITY_ALIASES.get(t, t) for t in tokens]\n",
    "        # keep only clearly US rows when counting\n",
    "        if any(t in US_CITIES for t in tokens) and target_norm in tokens:\n",
    "            seen.add(rid)\n",
    "            count += 1\n",
    "\n",
    "    return target_raw, count\n"
   ]
  },
  {
   "cell_type": "markdown",
   "metadata": {},
   "source": [
    "Call the function for Los Angeles and check if it is working.\n",
    "\n",
    "\n"
   ]
  },
  {
   "cell_type": "code",
   "execution_count": 132,
   "metadata": {},
   "outputs": [
    {
     "data": {
      "text/plain": [
       "('Los Angeles', 640)"
      ]
     },
     "execution_count": 132,
     "metadata": {},
     "output_type": "execute_result"
    }
   ],
   "source": [
    "#your code goes here\n",
    "get_number_of_jobs_L(\"Los Angeles\")"
   ]
  },
  {
   "cell_type": "markdown",
   "metadata": {},
   "source": [
    "### Store the results in an excel file\n"
   ]
  },
  {
   "cell_type": "markdown",
   "metadata": {},
   "source": [
    "Call the API for all the given technologies above and write the results in an excel spreadsheet.\n"
   ]
  },
  {
   "cell_type": "markdown",
   "metadata": {},
   "source": [
    "If you do not know how create excel file using python, double click here for **hints**.\n",
    "\n",
    "<!--\n",
    "\n",
    "from openpyxl import Workbook        # import Workbook class from module openpyxl\n",
    "wb=Workbook()                        # create a workbook object\n",
    "ws=wb.active                         # use the active worksheet\n",
    "ws.append(['Country','Continent'])   # add a row with two columns 'Country' and 'Continent'\n",
    "ws.append(['Eygpt','Africa'])        # add a row with two columns 'Egypt' and 'Africa'\n",
    "ws.append(['India','Asia'])          # add another row\n",
    "ws.append(['France','Europe'])       # add another row\n",
    "wb.save(\"countries.xlsx\")            # save the workbook into a file called countries.xlsx\n",
    "\n",
    "\n",
    "-->\n"
   ]
  },
  {
   "cell_type": "markdown",
   "metadata": {},
   "source": [
    "Create a python list of all locations for which you need to find the number of jobs postings.\n"
   ]
  },
  {
   "cell_type": "code",
   "execution_count": 134,
   "metadata": {},
   "outputs": [],
   "source": [
    "#your code goes here\n",
    "TECHS = [\"C\",\"C#\",\"C++\",\"Java\",\"JavaScript\",\"Python\",\n",
    "         \"Scala\",\"Oracle\",\"SQL Server\",\"MySQL Server\",\"PostgreSQL\",\"MongoDB\"]"
   ]
  },
  {
   "cell_type": "markdown",
   "metadata": {},
   "source": [
    "Import libraries required to create excel spreadsheet\n"
   ]
  },
  {
   "cell_type": "code",
   "execution_count": 136,
   "metadata": {},
   "outputs": [],
   "source": [
    "# your code goes here\n",
    "from openpyxl import Workbook"
   ]
  },
  {
   "cell_type": "markdown",
   "metadata": {},
   "source": [
    "Create a workbook and select the active worksheet\n"
   ]
  },
  {
   "cell_type": "code",
   "execution_count": 138,
   "metadata": {},
   "outputs": [],
   "source": [
    "# your code goes here\n",
    "wb = Workbook()\n",
    "ws = wb.active\n",
    "ws.title = \"job-postings\""
   ]
  },
  {
   "cell_type": "markdown",
   "metadata": {},
   "source": [
    "Find the number of jobs postings for each of the location in the above list.\n",
    "Write the Location name and the number of jobs postings into the excel spreadsheet.\n"
   ]
  },
  {
   "cell_type": "code",
   "execution_count": 140,
   "metadata": {},
   "outputs": [],
   "source": [
    "#your code goes here\n",
    "def count_by_flask_filter(field: str, value: str) -> int:\n",
    "    \"\"\"Call /data?field=value on your Flask API and return the number of matching jobs.\"\"\"\n",
    "    v = CANON.get(value.strip().lower(), value)  # ensure casing matches Flask's pattern_dict\n",
    "    r = requests.get(f\"{FLASK_URL}/data\", params={field: v}, timeout=60)\n",
    "    r.raise_for_status()\n",
    "    return len(r.json())\n",
    "\n",
    "# Header (once)\n",
    "ws.append([\"Technology\", \"Job Postings\"])\n",
    "\n",
    "# Loop through the TECHS list defined above and append rows\n",
    "for tech in TECHS:\n",
    "    n = count_by_flask_filter(\"Key Skills\", tech)\n",
    "    ws.append([tech, n])"
   ]
  },
  {
   "cell_type": "markdown",
   "metadata": {},
   "source": [
    "Save into an excel spreadsheet named 'job-postings.xlsx'.\n"
   ]
  },
  {
   "cell_type": "code",
   "execution_count": 142,
   "metadata": {},
   "outputs": [
    {
     "name": "stdout",
     "output_type": "stream",
     "text": [
      "Saved job-postings.xlsx\n"
     ]
    }
   ],
   "source": [
    "#your code goes here\n",
    "wb.save(\"job-postings.xlsx\")\n",
    "print(\"Saved job-postings.xlsx\")"
   ]
  },
  {
   "cell_type": "markdown",
   "metadata": {},
   "source": [
    "#### In the similar way, you can try for below given technologies and results  can be stored in an excel sheet.\n"
   ]
  },
  {
   "cell_type": "markdown",
   "metadata": {},
   "source": [
    "Collect the number of job postings for the following languages using the API:\n",
    "\n",
    "*   C\n",
    "*   C#\n",
    "*   C++\n",
    "*   Java\n",
    "*   JavaScript\n",
    "*   Python\n",
    "*   Scala\n",
    "*   Oracle\n",
    "*   SQL Server\n",
    "*   MySQL Server\n",
    "*   PostgreSQL\n",
    "*   MongoDB\n"
   ]
  },
  {
   "cell_type": "code",
   "execution_count": 146,
   "metadata": {},
   "outputs": [
    {
     "name": "stdout",
     "output_type": "stream",
     "text": [
      "github-job-postings.xlsx\n"
     ]
    }
   ],
   "source": [
    "# your code goes here\n",
    "# Make sure we have TECHS defined\n",
    "TECHS = [\"C\",\"C#\",\"C++\",\"Java\",\"JavaScript\",\"Python\",\n",
    "         \"Scala\",\"Oracle\",\"SQL Server\",\"MySQL Server\",\n",
    "         \"PostgreSQL\",\"MongoDB\"]\n",
    "\n",
    "# Add header\n",
    "ws.append([\"Technology\", \"Job Postings\"])\n",
    "\n",
    "# Loop through each technology, call the API, and write results\n",
    "for tech in TECHS:\n",
    "    n = count_by_flask_filter(\"Key Skills\", tech)\n",
    "    ws.append([tech, n])\n",
    "\n",
    "# Save the results to a new Excel file\n",
    "wb.save(\"github-job-postings.xlsx\")\n",
    "print(\"github-job-postings.xlsx\")"
   ]
  },
  {
   "cell_type": "markdown",
   "metadata": {},
   "source": [
    "## Author\n"
   ]
  },
  {
   "cell_type": "markdown",
   "metadata": {},
   "source": [
    "Ayushi Jain\n"
   ]
  },
  {
   "cell_type": "markdown",
   "metadata": {},
   "source": [
    "### Other Contributors\n"
   ]
  },
  {
   "cell_type": "markdown",
   "metadata": {},
   "source": [
    "Rav Ahuja\n",
    "\n",
    "Lakshmi Holla\n",
    "\n",
    "Malika\n"
   ]
  },
  {
   "cell_type": "markdown",
   "metadata": {},
   "source": [
    "## Change Log\n"
   ]
  },
  {
   "cell_type": "markdown",
   "metadata": {},
   "source": [
    "| Date (YYYY-MM-DD) | Version | Changed By        | Change Description                 |\n",
    "| ----------------- | ------- | ----------------- | ---------------------------------- | \n",
    "| 2022-01-19        | 0.3     | Lakshmi Holla        | Added changes in the markdown      |\n",
    "| 2021-06-25        | 0.2     | Malika            | Updated GitHub job json link       |\n",
    "| 2020-10-17        | 0.1     | Ramesh Sannareddy | Created initial version of the lab |\n"
   ]
  },
  {
   "cell_type": "markdown",
   "metadata": {},
   "source": [
    "Copyright © 2022 IBM Corporation. All rights reserved. \n"
   ]
  }
 ],
 "metadata": {
  "kernelspec": {
   "display_name": "Python 3 (ipykernel)",
   "language": "python",
   "name": "python3"
  },
  "language_info": {
   "codemirror_mode": {
    "name": "ipython",
    "version": 3
   },
   "file_extension": ".py",
   "mimetype": "text/x-python",
   "name": "python",
   "nbconvert_exporter": "python",
   "pygments_lexer": "ipython3",
   "version": "3.12.7"
  }
 },
 "nbformat": 4,
 "nbformat_minor": 4
}
